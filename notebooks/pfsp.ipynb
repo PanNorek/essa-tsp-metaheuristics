{
 "cells": [
  {
   "cell_type": "code",
   "execution_count": 1,
   "metadata": {},
   "outputs": [
    {
     "name": "stdout",
     "output_type": "stream",
     "text": [
      "e:\\coding\\essa-tsp-metaheuristics\n"
     ]
    }
   ],
   "source": [
    "%cd ..\n",
    "from src.algos import *\n",
    "import os\n",
    "import pandas as pd"
   ]
  },
  {
   "cell_type": "code",
   "execution_count": 2,
   "metadata": {},
   "outputs": [
    {
     "data": {
      "text/html": [
       "<div>\n",
       "<style scoped>\n",
       "    .dataframe tbody tr th:only-of-type {\n",
       "        vertical-align: middle;\n",
       "    }\n",
       "\n",
       "    .dataframe tbody tr th {\n",
       "        vertical-align: top;\n",
       "    }\n",
       "\n",
       "    .dataframe thead th {\n",
       "        text-align: right;\n",
       "    }\n",
       "</style>\n",
       "<table border=\"1\" class=\"dataframe\">\n",
       "  <thead>\n",
       "    <tr style=\"text-align: right;\">\n",
       "      <th></th>\n",
       "      <th>Zadanie</th>\n",
       "      <th>M1</th>\n",
       "      <th>M2</th>\n",
       "      <th>M3</th>\n",
       "      <th>M4</th>\n",
       "      <th>M5</th>\n",
       "      <th>M6</th>\n",
       "      <th>M7</th>\n",
       "      <th>M8</th>\n",
       "      <th>M9</th>\n",
       "      <th>...</th>\n",
       "      <th>M11</th>\n",
       "      <th>M12</th>\n",
       "      <th>M13</th>\n",
       "      <th>M14</th>\n",
       "      <th>M15</th>\n",
       "      <th>M16</th>\n",
       "      <th>M17</th>\n",
       "      <th>M18</th>\n",
       "      <th>M19</th>\n",
       "      <th>M20</th>\n",
       "    </tr>\n",
       "  </thead>\n",
       "  <tbody>\n",
       "    <tr>\n",
       "      <th>0</th>\n",
       "      <td>1</td>\n",
       "      <td>66</td>\n",
       "      <td>55</td>\n",
       "      <td>65</td>\n",
       "      <td>57</td>\n",
       "      <td>58</td>\n",
       "      <td>38</td>\n",
       "      <td>5</td>\n",
       "      <td>26</td>\n",
       "      <td>66</td>\n",
       "      <td>...</td>\n",
       "      <td>39</td>\n",
       "      <td>42</td>\n",
       "      <td>40</td>\n",
       "      <td>7</td>\n",
       "      <td>50</td>\n",
       "      <td>27</td>\n",
       "      <td>64</td>\n",
       "      <td>20</td>\n",
       "      <td>79</td>\n",
       "      <td>28</td>\n",
       "    </tr>\n",
       "    <tr>\n",
       "      <th>1</th>\n",
       "      <td>2</td>\n",
       "      <td>46</td>\n",
       "      <td>63</td>\n",
       "      <td>35</td>\n",
       "      <td>72</td>\n",
       "      <td>66</td>\n",
       "      <td>23</td>\n",
       "      <td>13</td>\n",
       "      <td>40</td>\n",
       "      <td>41</td>\n",
       "      <td>...</td>\n",
       "      <td>12</td>\n",
       "      <td>79</td>\n",
       "      <td>62</td>\n",
       "      <td>34</td>\n",
       "      <td>4</td>\n",
       "      <td>60</td>\n",
       "      <td>44</td>\n",
       "      <td>65</td>\n",
       "      <td>18</td>\n",
       "      <td>91</td>\n",
       "    </tr>\n",
       "    <tr>\n",
       "      <th>2</th>\n",
       "      <td>3</td>\n",
       "      <td>25</td>\n",
       "      <td>71</td>\n",
       "      <td>49</td>\n",
       "      <td>48</td>\n",
       "      <td>5</td>\n",
       "      <td>13</td>\n",
       "      <td>36</td>\n",
       "      <td>84</td>\n",
       "      <td>74</td>\n",
       "      <td>...</td>\n",
       "      <td>45</td>\n",
       "      <td>25</td>\n",
       "      <td>8</td>\n",
       "      <td>69</td>\n",
       "      <td>20</td>\n",
       "      <td>79</td>\n",
       "      <td>58</td>\n",
       "      <td>50</td>\n",
       "      <td>99</td>\n",
       "      <td>32</td>\n",
       "    </tr>\n",
       "    <tr>\n",
       "      <th>3</th>\n",
       "      <td>4</td>\n",
       "      <td>30</td>\n",
       "      <td>21</td>\n",
       "      <td>2</td>\n",
       "      <td>6</td>\n",
       "      <td>69</td>\n",
       "      <td>1</td>\n",
       "      <td>54</td>\n",
       "      <td>84</td>\n",
       "      <td>62</td>\n",
       "      <td>...</td>\n",
       "      <td>34</td>\n",
       "      <td>18</td>\n",
       "      <td>13</td>\n",
       "      <td>18</td>\n",
       "      <td>19</td>\n",
       "      <td>50</td>\n",
       "      <td>7</td>\n",
       "      <td>76</td>\n",
       "      <td>75</td>\n",
       "      <td>56</td>\n",
       "    </tr>\n",
       "    <tr>\n",
       "      <th>4</th>\n",
       "      <td>5</td>\n",
       "      <td>17</td>\n",
       "      <td>74</td>\n",
       "      <td>95</td>\n",
       "      <td>10</td>\n",
       "      <td>38</td>\n",
       "      <td>10</td>\n",
       "      <td>76</td>\n",
       "      <td>74</td>\n",
       "      <td>70</td>\n",
       "      <td>...</td>\n",
       "      <td>11</td>\n",
       "      <td>75</td>\n",
       "      <td>87</td>\n",
       "      <td>98</td>\n",
       "      <td>58</td>\n",
       "      <td>15</td>\n",
       "      <td>69</td>\n",
       "      <td>75</td>\n",
       "      <td>47</td>\n",
       "      <td>70</td>\n",
       "    </tr>\n",
       "  </tbody>\n",
       "</table>\n",
       "<p>5 rows × 21 columns</p>\n",
       "</div>"
      ],
      "text/plain": [
       "   Zadanie  M1  M2  M3  M4  M5  M6  M7  M8  M9  ...  M11  M12  M13  M14  M15  \\\n",
       "0        1  66  55  65  57  58  38   5  26  66  ...   39   42   40    7   50   \n",
       "1        2  46  63  35  72  66  23  13  40  41  ...   12   79   62   34    4   \n",
       "2        3  25  71  49  48   5  13  36  84  74  ...   45   25    8   69   20   \n",
       "3        4  30  21   2   6  69   1  54  84  62  ...   34   18   13   18   19   \n",
       "4        5  17  74  95  10  38  10  76  74  70  ...   11   75   87   98   58   \n",
       "\n",
       "   M16  M17  M18  M19  M20  \n",
       "0   27   64   20   79   28  \n",
       "1   60   44   65   18   91  \n",
       "2   79   58   50   99   32  \n",
       "3   50    7   76   75   56  \n",
       "4   15   69   75   47   70  \n",
       "\n",
       "[5 rows x 21 columns]"
      ]
     },
     "execution_count": 2,
     "metadata": {},
     "output_type": "execute_result"
    }
   ],
   "source": [
    "distances = pd.read_excel(os.path.join(\"data\", \"Data_PFSP_50_20.xlsx\"))\n",
    "distances.head()"
   ]
  },
  {
   "cell_type": "code",
   "execution_count": 3,
   "metadata": {},
   "outputs": [
    {
     "data": {
      "text/plain": [
       "distance: 4960\n",
       "algorithm: PFSP_NearestNeighbor\n",
       "\n",
       "solving time: 1.812 s\n",
       "path: [2, 35, 13, 20, 48, 22, 23, 12, 6, 30, 25, 43, 37, 0, 9, 38, 33, 46, 5, 27, 39, 49, 17, 8, 16, 32, 40, 26, 11, 24, 44, 18, 41, 1, 34, 14, 3, 4, 19, 15, 45, 29, 10, 36, 7, 42, 21, 31, 47, 28]"
      ]
     },
     "execution_count": 3,
     "metadata": {},
     "output_type": "execute_result"
    }
   ],
   "source": [
    "nn = PFSP_NearestNeighbor()\n",
    "nn._solve(distances, start_order=2)"
   ]
  },
  {
   "cell_type": "code",
   "execution_count": null,
   "metadata": {},
   "outputs": [],
   "source": [
    "# results = [nn._solve(distances, start_order=i) for i in range(50)] \n",
    "# min(results, key=lambda x: x.distance)"
   ]
  }
 ],
 "metadata": {
  "kernelspec": {
   "display_name": "venv",
   "language": "python",
   "name": "python3"
  },
  "language_info": {
   "codemirror_mode": {
    "name": "ipython",
    "version": 3
   },
   "file_extension": ".py",
   "mimetype": "text/x-python",
   "name": "python",
   "nbconvert_exporter": "python",
   "pygments_lexer": "ipython3",
   "version": "3.9.12"
  },
  "orig_nbformat": 4,
  "vscode": {
   "interpreter": {
    "hash": "2cd0f65a3b2750a550c115ccf2ca842b980a7754023f943c6e0c745361e445a7"
   }
  }
 },
 "nbformat": 4,
 "nbformat_minor": 2
}
