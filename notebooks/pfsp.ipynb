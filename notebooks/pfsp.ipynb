{
 "cells": [
  {
   "cell_type": "code",
   "execution_count": 1,
   "metadata": {},
   "outputs": [
    {
     "name": "stdout",
     "output_type": "stream",
     "text": [
      "e:\\coding\\essa-tsp-metaheuristics\n"
     ]
    }
   ],
   "source": [
    "%cd ..\n",
    "from src.algos import *\n",
    "import os\n",
    "import pandas as pd\n",
    "from src.utils import load_data, get_order_cost"
   ]
  },
  {
   "cell_type": "code",
   "execution_count": 2,
   "metadata": {},
   "outputs": [],
   "source": [
    "NUM_STARTS = 1 "
   ]
  },
  {
   "cell_type": "code",
   "execution_count": 3,
   "metadata": {},
   "outputs": [],
   "source": [
    "hill_climbing_params = {\n",
    "    \"neigh_type\": [\"swap\"],\n",
    "    \"n_iter\": [10, 20],\n",
    "}\n",
    "\n",
    "tabu_search_params = {\n",
    "    \"neigh_type\": [\"swap\"],\n",
    "    \"n_iter\": [10],\n",
    "    \"tabu_length\": [5],\n",
    "}\n",
    "\n",
    "simulated_annealing_params = {\n",
    "    \"neigh_type\": [\"swap\"],\n",
    "    \"n_iter\": [10],\n",
    "    \"temp\": [1],\n",
    "    \"alpha\": [0.1],\n",
    "}\n",
    "\n",
    "genetic_algorithm_params = {\n",
    "    \"n_iter\": [10],\n",
    "    \"pop_size\": [50],\n",
    "    \"selection_method\": [\"tournament\"],\n",
    "    \"crossover_method\": [\"pmx\"],\n",
    "    \"mating_pool_size\": [.05],\n",
    "    \"elite_size\": [.05],\n",
    "    \"mutation_rate\": [.01],\n",
    "    \"mutation_type\": [\"swap\"],\n",
    "}\n"
   ]
  },
  {
   "cell_type": "code",
   "execution_count": 4,
   "metadata": {},
   "outputs": [
    {
     "data": {
      "text/html": [
       "<div>\n",
       "<style scoped>\n",
       "    .dataframe tbody tr th:only-of-type {\n",
       "        vertical-align: middle;\n",
       "    }\n",
       "\n",
       "    .dataframe tbody tr th {\n",
       "        vertical-align: top;\n",
       "    }\n",
       "\n",
       "    .dataframe thead th {\n",
       "        text-align: right;\n",
       "    }\n",
       "</style>\n",
       "<table border=\"1\" class=\"dataframe\">\n",
       "  <thead>\n",
       "    <tr style=\"text-align: right;\">\n",
       "      <th></th>\n",
       "      <th>M1</th>\n",
       "      <th>M2</th>\n",
       "      <th>M3</th>\n",
       "      <th>M4</th>\n",
       "      <th>M5</th>\n",
       "      <th>M6</th>\n",
       "      <th>M7</th>\n",
       "      <th>M8</th>\n",
       "      <th>M9</th>\n",
       "      <th>M10</th>\n",
       "      <th>M11</th>\n",
       "      <th>M12</th>\n",
       "      <th>M13</th>\n",
       "      <th>M14</th>\n",
       "      <th>M15</th>\n",
       "      <th>M16</th>\n",
       "      <th>M17</th>\n",
       "      <th>M18</th>\n",
       "      <th>M19</th>\n",
       "      <th>M20</th>\n",
       "    </tr>\n",
       "    <tr>\n",
       "      <th>Zadanie</th>\n",
       "      <th></th>\n",
       "      <th></th>\n",
       "      <th></th>\n",
       "      <th></th>\n",
       "      <th></th>\n",
       "      <th></th>\n",
       "      <th></th>\n",
       "      <th></th>\n",
       "      <th></th>\n",
       "      <th></th>\n",
       "      <th></th>\n",
       "      <th></th>\n",
       "      <th></th>\n",
       "      <th></th>\n",
       "      <th></th>\n",
       "      <th></th>\n",
       "      <th></th>\n",
       "      <th></th>\n",
       "      <th></th>\n",
       "      <th></th>\n",
       "    </tr>\n",
       "  </thead>\n",
       "  <tbody>\n",
       "    <tr>\n",
       "      <th>1</th>\n",
       "      <td>66</td>\n",
       "      <td>55</td>\n",
       "      <td>65</td>\n",
       "      <td>57</td>\n",
       "      <td>58</td>\n",
       "      <td>38</td>\n",
       "      <td>5</td>\n",
       "      <td>26</td>\n",
       "      <td>66</td>\n",
       "      <td>93</td>\n",
       "      <td>39</td>\n",
       "      <td>42</td>\n",
       "      <td>40</td>\n",
       "      <td>7</td>\n",
       "      <td>50</td>\n",
       "      <td>27</td>\n",
       "      <td>64</td>\n",
       "      <td>20</td>\n",
       "      <td>79</td>\n",
       "      <td>28</td>\n",
       "    </tr>\n",
       "    <tr>\n",
       "      <th>2</th>\n",
       "      <td>46</td>\n",
       "      <td>63</td>\n",
       "      <td>35</td>\n",
       "      <td>72</td>\n",
       "      <td>66</td>\n",
       "      <td>23</td>\n",
       "      <td>13</td>\n",
       "      <td>40</td>\n",
       "      <td>41</td>\n",
       "      <td>95</td>\n",
       "      <td>12</td>\n",
       "      <td>79</td>\n",
       "      <td>62</td>\n",
       "      <td>34</td>\n",
       "      <td>4</td>\n",
       "      <td>60</td>\n",
       "      <td>44</td>\n",
       "      <td>65</td>\n",
       "      <td>18</td>\n",
       "      <td>91</td>\n",
       "    </tr>\n",
       "    <tr>\n",
       "      <th>3</th>\n",
       "      <td>25</td>\n",
       "      <td>71</td>\n",
       "      <td>49</td>\n",
       "      <td>48</td>\n",
       "      <td>5</td>\n",
       "      <td>13</td>\n",
       "      <td>36</td>\n",
       "      <td>84</td>\n",
       "      <td>74</td>\n",
       "      <td>48</td>\n",
       "      <td>45</td>\n",
       "      <td>25</td>\n",
       "      <td>8</td>\n",
       "      <td>69</td>\n",
       "      <td>20</td>\n",
       "      <td>79</td>\n",
       "      <td>58</td>\n",
       "      <td>50</td>\n",
       "      <td>99</td>\n",
       "      <td>32</td>\n",
       "    </tr>\n",
       "    <tr>\n",
       "      <th>4</th>\n",
       "      <td>30</td>\n",
       "      <td>21</td>\n",
       "      <td>2</td>\n",
       "      <td>6</td>\n",
       "      <td>69</td>\n",
       "      <td>1</td>\n",
       "      <td>54</td>\n",
       "      <td>84</td>\n",
       "      <td>62</td>\n",
       "      <td>71</td>\n",
       "      <td>34</td>\n",
       "      <td>18</td>\n",
       "      <td>13</td>\n",
       "      <td>18</td>\n",
       "      <td>19</td>\n",
       "      <td>50</td>\n",
       "      <td>7</td>\n",
       "      <td>76</td>\n",
       "      <td>75</td>\n",
       "      <td>56</td>\n",
       "    </tr>\n",
       "    <tr>\n",
       "      <th>5</th>\n",
       "      <td>17</td>\n",
       "      <td>74</td>\n",
       "      <td>95</td>\n",
       "      <td>10</td>\n",
       "      <td>38</td>\n",
       "      <td>10</td>\n",
       "      <td>76</td>\n",
       "      <td>74</td>\n",
       "      <td>70</td>\n",
       "      <td>30</td>\n",
       "      <td>11</td>\n",
       "      <td>75</td>\n",
       "      <td>87</td>\n",
       "      <td>98</td>\n",
       "      <td>58</td>\n",
       "      <td>15</td>\n",
       "      <td>69</td>\n",
       "      <td>75</td>\n",
       "      <td>47</td>\n",
       "      <td>70</td>\n",
       "    </tr>\n",
       "  </tbody>\n",
       "</table>\n",
       "</div>"
      ],
      "text/plain": [
       "         M1  M2  M3  M4  M5  M6  M7  M8  M9  M10  M11  M12  M13  M14  M15  \\\n",
       "Zadanie                                                                     \n",
       "1        66  55  65  57  58  38   5  26  66   93   39   42   40    7   50   \n",
       "2        46  63  35  72  66  23  13  40  41   95   12   79   62   34    4   \n",
       "3        25  71  49  48   5  13  36  84  74   48   45   25    8   69   20   \n",
       "4        30  21   2   6  69   1  54  84  62   71   34   18   13   18   19   \n",
       "5        17  74  95  10  38  10  76  74  70   30   11   75   87   98   58   \n",
       "\n",
       "         M16  M17  M18  M19  M20  \n",
       "Zadanie                           \n",
       "1         27   64   20   79   28  \n",
       "2         60   44   65   18   91  \n",
       "3         79   58   50   99   32  \n",
       "4         50    7   76   75   56  \n",
       "5         15   69   75   47   70  "
      ]
     },
     "execution_count": 4,
     "metadata": {},
     "output_type": "execute_result"
    }
   ],
   "source": [
    "distances = load_data(os.path.join(\"data\", \"Data_PFSP_50_20.xlsx\"))\n",
    "distances.head()"
   ]
  },
  {
   "cell_type": "code",
   "execution_count": 5,
   "metadata": {},
   "outputs": [],
   "source": [
    "neh = NEH()\n",
    "neh_results = neh.solve(distances)\n",
    "neh_results"
   ]
  },
  {
   "cell_type": "code",
   "execution_count": null,
   "metadata": {},
   "outputs": [],
   "source": [
    "grid_search = PFSPGridSearch()\n",
    "\n",
    "grid_search.solve(\n",
    "    algorithm=HillClimbing,\n",
    "    params=hill_climbing_params,\n",
    "    distances=distances,\n",
    "    n_starts=NUM_STARTS,\n",
    "    verbose=True,\n",
    "    n_jobs=-1,\n",
    ")"
   ]
  },
  {
   "cell_type": "code",
   "execution_count": null,
   "metadata": {},
   "outputs": [
    {
     "name": "stdout",
     "output_type": "stream",
     "text": [
      "number of algorithms in grid search: 1\n",
      "\n",
      "params: {'n_iter': 10, 'neigh_type': 'swap', 'tabu_length': 5}\n",
      "TABU SEARCH\n",
      "Neighbourhood type: None\n",
      "n_iter: 10\n",
      "tabu_length: 5\n",
      "\n",
      "Solving time for TABU SEARCH: 23.835 s - Parallel: True\n"
     ]
    },
    {
     "data": {
      "text/plain": [
       "distance: 4065\n",
       "algorithm: TABU SEARCH\n",
       "Neighbourhood type: Swap\n",
       "n_iter: 10\n",
       "tabu_length: 5\n",
       "\n",
       "solving time: 22.317 s\n",
       "path: [31, 27, 24, 5, 26, 3, 16, 22, 4, 14, 2, 32, 37, 33, 43, 19, 11, 46, 25, 21, 39, 42, 41, 9, 29, 13, 20, 48, 49, 47, 23, 40, 15, 35, 34, 36, 45, 50, 44, 6, 30, 8, 17, 12, 1, 28, 10, 18, 7, 38]\n",
       "history: 4546, 4465 ... 4090, 4065"
      ]
     },
     "execution_count": 9,
     "metadata": {},
     "output_type": "execute_result"
    }
   ],
   "source": [
    "grid_search.solve(\n",
    "    algorithm=TabuSearch,\n",
    "    params=tabu_search_params,\n",
    "    distances=distances,\n",
    "    n_starts=NUM_STARTS,\n",
    "    verbose=True,\n",
    "    n_jobs=-1,\n",
    ")"
   ]
  },
  {
   "cell_type": "code",
   "execution_count": null,
   "metadata": {},
   "outputs": [
    {
     "name": "stdout",
     "output_type": "stream",
     "text": [
      "number of algorithms in grid search: 1\n",
      "\n",
      "params: {'alpha': 0.1, 'n_iter': 10, 'neigh_type': 'swap', 'temp': 1}\n",
      "SIMULATED ANNEALING\n",
      "Neighbourhood type: None\n",
      "n_iter: 10\n",
      "reduction function: reduce\n",
      "            alpha: 0.1\n",
      "            initial temperatute: 1\n",
      "Solving time for SIMULATED ANNEALING: 1.327 s - Parallel: True\n"
     ]
    },
    {
     "data": {
      "text/plain": [
       "distance: 4541\n",
       "algorithm: SIMULATED ANNEALING\n",
       "Neighbourhood type: Swap\n",
       "n_iter: 10\n",
       "reduction function: reduce\n",
       "alpha: 0.1\n",
       "initial temperatute: 1\n",
       "solving time: 0.021 s\n",
       "path: [39, 38, 12, 5, 43, 2, 25, 7, 31, 29, 14, 24, 32, 1, 35, 19, 34, 10, 42, 21, 6, 23, 26, 15, 11, 27, 18, 40, 33, 9, 3, 13, 17, 50, 20, 49, 37, 48, 30, 47, 46, 4, 41, 16, 8, 45, 44, 28, 22, 36]\n",
       "history: [4626, 4613, 4566, 4541]"
      ]
     },
     "execution_count": 10,
     "metadata": {},
     "output_type": "execute_result"
    }
   ],
   "source": [
    "grid_search.solve(\n",
    "    algorithm=SimulatedAnnealing,\n",
    "    params=simulated_annealing_params,\n",
    "    distances=distances,\n",
    "    n_starts=NUM_STARTS,\n",
    "    verbose=True,\n",
    "    n_jobs=-1,\n",
    ")"
   ]
  },
  {
   "cell_type": "code",
   "execution_count": null,
   "metadata": {},
   "outputs": [
    {
     "data": {
      "text/plain": [
       "distance: 5014\n",
       "algorithm: PFSP_NearestNeighbor\n",
       "\n",
       "solving time: 1.615 s\n",
       "path: [2, 49, 36, 14, 21, 23, 6, 24, 13, 7, 31, 26, 44, 38, 1, 10, 39, 34, 47, 40, 50, 28, 33, 9, 17, 18, 12, 25, 45, 27, 42, 19, 15, 41, 46, 16, 3, 35, 4, 20, 11, 8, 5, 30, 29, 22, 37, 43, 32, 48]"
      ]
     },
     "execution_count": 11,
     "metadata": {},
     "output_type": "execute_result"
    }
   ],
   "source": [
    "nn = PFSP_NearestNeighbor()\n",
    "nn._solve(distances, start_order=2)"
   ]
  },
  {
   "cell_type": "code",
   "execution_count": null,
   "metadata": {},
   "outputs": [
    {
     "name": "stdout",
     "output_type": "stream",
     "text": [
      "number of algorithms in grid search: 1\n",
      "\n",
      "params: {'crossover_method': 'pmx', 'elite_size': 0.05, 'mating_pool_size': 0.05, 'mutation_rate': 0.01, 'mutation_type': 'swap', 'n_iter': 10, 'pop_size': 50, 'selection_method': 'tournament'}\n",
      "GENETIC ALGORITHM\n",
      "Neighbourhood type: None\n",
      "n_iter: 10\n",
      "pop_size: 50\n",
      "        generations: 10\n",
      "        selection_method: tournament\n",
      "        crossover_method: pmx\n",
      "        elite_size: 2\n",
      "        mating_pool_size: 2\n",
      "        mutation_rate: 0.01\n",
      "\n",
      "Solving time for GENETIC ALGORITHM: 0.999 s - Parallel: True\n"
     ]
    },
    {
     "data": {
      "text/plain": [
       "distance: 4335\n",
       "algorithm: GENETIC ALGORITHM\n",
       "Neighbourhood type: Swap\n",
       "n_iter: 10\n",
       "pop_size: 50\n",
       "generations: 10\n",
       "selection_method: tournament\n",
       "crossover_method: pmx\n",
       "elite_size: 2\n",
       "mating_pool_size: 2\n",
       "mutation_rate: 0.01\n",
       "\n",
       "solving time: 0.994 s\n",
       "path: [24, 27, 41, 33, 18, 31, 1, 37, 19, 49, 22, 47, 40, 8, 48, 50, 34, 26, 46, 10, 4, 39, 16, 3, 23, 36, 2, 14, 42, 32, 13, 21, 6, 11, 17, 28, 38, 35, 20, 12, 29, 5, 30, 25, 15, 45, 43, 7, 44, 9]\n",
       "history: [4389, 4389, 4384, 4378, 4335, 4335, 4335, 4335, 4335, 4335]"
      ]
     },
     "execution_count": 12,
     "metadata": {},
     "output_type": "execute_result"
    }
   ],
   "source": [
    "grid_search.solve(\n",
    "    algorithm=GeneticAlgorithm,\n",
    "    params=genetic_algorithm_params,\n",
    "    distances=distances,\n",
    "    n_starts=NUM_STARTS,\n",
    "    verbose=True,\n",
    "    n_jobs=-1,\n",
    ")"
   ]
  }
 ],
 "metadata": {
  "kernelspec": {
   "display_name": "venv",
   "language": "python",
   "name": "python3"
  },
  "language_info": {
   "codemirror_mode": {
    "name": "ipython",
    "version": 3
   },
   "file_extension": ".py",
   "mimetype": "text/x-python",
   "name": "python",
   "nbconvert_exporter": "python",
   "pygments_lexer": "ipython3",
   "version": "3.9.12"
  },
  "orig_nbformat": 4,
  "vscode": {
   "interpreter": {
    "hash": "2cd0f65a3b2750a550c115ccf2ca842b980a7754023f943c6e0c745361e445a7"
   }
  }
 },
 "nbformat": 4,
 "nbformat_minor": 2
}
