{
 "cells": [
  {
   "cell_type": "code",
   "execution_count": 1,
   "metadata": {},
   "outputs": [
    {
     "name": "stdout",
     "output_type": "stream",
     "text": [
      "e:\\coding\\essa-tsp-metaheuristics\n"
     ]
    }
   ],
   "source": [
    "%cd ..\n",
    "from src.utils import *\n",
    "from src.algos import *\n"
   ]
  },
  {
   "cell_type": "code",
   "execution_count": 2,
   "metadata": {},
   "outputs": [],
   "source": [
    "df = load_data('data\\TSP_29.xlsx')"
   ]
  },
  {
   "cell_type": "code",
   "execution_count": 3,
   "metadata": {},
   "outputs": [],
   "source": [
    "ga = GeneticAlgorithm(\n",
    "    pop_size=10000,\n",
    "    no_generations=200,\n",
    "    mutation_rate=.2,\n",
    "    neigh_type=\"insertion\",\n",
    "    verbose=True)"
   ]
  },
  {
   "cell_type": "code",
   "execution_count": 4,
   "metadata": {},
   "outputs": [
    {
     "name": "stdout",
     "output_type": "stream",
     "text": [
      "Initial population: Individual(path: 24...15, distance: 4318.00)\n",
      "Generation 0: Individual(path: 23...1, distance: 4246.00) took 3.8636 seconds\n",
      "Generation 1: Individual(path: 26...3, distance: 4094.00) took 3.9347 seconds\n",
      "Generation 2: Individual(path: 11...18, distance: 3933.00) took 3.6344 seconds\n",
      "Generation 3: Individual(path: 11...18, distance: 3933.00) took 3.7328 seconds\n",
      "Generation 4: Individual(path: 11...18, distance: 3933.00) took 3.7349 seconds\n",
      "Generation 5: Individual(path: 16...25, distance: 3713.00) took 3.5321 seconds\n",
      "Generation 6: Individual(path: 16...25, distance: 3713.00) took 3.8955 seconds\n",
      "Generation 7: Individual(path: 23...29, distance: 3573.00) took 3.7151 seconds\n",
      "Generation 8: Individual(path: 24...23, distance: 3560.00) took 3.4788 seconds\n",
      "Generation 9: Individual(path: 24...23, distance: 3560.00) took 3.5016 seconds\n",
      "Generation 10: Individual(path: 24...23, distance: 3560.00) took 3.4097 seconds\n",
      "Generation 11: Individual(path: 4...16, distance: 3426.00) took 3.3917 seconds\n",
      "Generation 12: Individual(path: 13...16, distance: 3338.00) took 3.7991 seconds\n",
      "Generation 13: Individual(path: 21...4, distance: 3397.00) took 3.6534 seconds\n",
      "Generation 14: Individual(path: 23...7, distance: 3321.00) took 3.5882 seconds\n",
      "Generation 15: Individual(path: 23...7, distance: 3321.00) took 3.5569 seconds\n",
      "Generation 16: Individual(path: 6...5, distance: 3245.00) took 3.4712 seconds\n",
      "Generation 17: Individual(path: 11...13, distance: 3078.00) took 3.4128 seconds\n",
      "Generation 18: Individual(path: 11...13, distance: 3078.00) took 3.5529 seconds\n",
      "Generation 19: Individual(path: 11...13, distance: 3078.00) took 3.8975 seconds\n",
      "Generation 20: Individual(path: 15...18, distance: 2890.00) took 3.6066 seconds\n",
      "Generation 21: Individual(path: 15...18, distance: 2890.00) took 3.6467 seconds\n",
      "Generation 22: Individual(path: 15...18, distance: 2890.00) took 3.9251 seconds\n",
      "Generation 23: Individual(path: 22...11, distance: 2770.00) took 3.9725 seconds\n",
      "Generation 24: Individual(path: 22...11, distance: 2770.00) took 4.6928 seconds\n",
      "Generation 25: Individual(path: 19...11, distance: 2834.00) took 4.3572 seconds\n",
      "Generation 26: Individual(path: 19...11, distance: 2834.00) took 5.5526 seconds\n",
      "Generation 27: Individual(path: 17...14, distance: 2811.00) took 4.7651 seconds\n",
      "Generation 28: Individual(path: 12...28, distance: 2778.00) took 4.7883 seconds\n",
      "Generation 29: Individual(path: 14...22, distance: 2747.00) took 3.5987 seconds\n",
      "Generation 30: Individual(path: 14...11, distance: 2674.00) took 3.9143 seconds\n",
      "Generation 31: Individual(path: 14...11, distance: 2674.00) took 4.2561 seconds\n",
      "Generation 32: Individual(path: 14...11, distance: 2674.00) took 3.9766 seconds\n",
      "Generation 33: Individual(path: 14...11, distance: 2674.00) took 4.1532 seconds\n",
      "Generation 34: Individual(path: 14...11, distance: 2674.00) took 3.7066 seconds\n",
      "Generation 35: Individual(path: 20...1, distance: 2668.00) took 3.6013 seconds\n",
      "Generation 36: Individual(path: 16...13, distance: 2649.00) took 3.6790 seconds\n",
      "Generation 37: Individual(path: 16...13, distance: 2649.00) took 3.6732 seconds\n",
      "Generation 38: Individual(path: 19...25, distance: 2560.00) took 3.7126 seconds\n",
      "Generation 39: Individual(path: 19...25, distance: 2560.00) took 3.9322 seconds\n",
      "Generation 40: Individual(path: 16...24, distance: 2402.00) took 4.2459 seconds\n",
      "Generation 41: Individual(path: 16...24, distance: 2402.00) took 4.2537 seconds\n",
      "Generation 42: Individual(path: 16...24, distance: 2402.00) took 3.7859 seconds\n",
      "Generation 43: Individual(path: 16...24, distance: 2402.00) took 3.9432 seconds\n",
      "Generation 44: Individual(path: 16...24, distance: 2402.00) took 3.6770 seconds\n",
      "Generation 45: Individual(path: 16...24, distance: 2402.00) took 3.6733 seconds\n",
      "Generation 46: Individual(path: 16...24, distance: 2402.00) took 3.6695 seconds\n",
      "Generation 47: Individual(path: 16...24, distance: 2402.00) took 3.7390 seconds\n",
      "Generation 48: Individual(path: 16...24, distance: 2402.00) took 3.6599 seconds\n",
      "Generation 49: Individual(path: 11...16, distance: 2397.00) took 3.7568 seconds\n"
     ]
    }
   ],
   "source": [
    "ga.solve(df)"
   ]
  }
 ],
 "metadata": {
  "kernelspec": {
   "display_name": "venv",
   "language": "python",
   "name": "python3"
  },
  "language_info": {
   "codemirror_mode": {
    "name": "ipython",
    "version": 3
   },
   "file_extension": ".py",
   "mimetype": "text/x-python",
   "name": "python",
   "nbconvert_exporter": "python",
   "pygments_lexer": "ipython3",
   "version": "3.9.12"
  },
  "orig_nbformat": 4,
  "vscode": {
   "interpreter": {
    "hash": "2cd0f65a3b2750a550c115ccf2ca842b980a7754023f943c6e0c745361e445a7"
   }
  }
 },
 "nbformat": 4,
 "nbformat_minor": 2
}
