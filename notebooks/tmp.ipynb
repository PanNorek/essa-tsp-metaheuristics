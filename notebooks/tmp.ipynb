{
 "cells": [
  {
   "cell_type": "code",
   "execution_count": 1,
   "metadata": {},
   "outputs": [
    {
     "name": "stdout",
     "output_type": "stream",
     "text": [
      "e:\\coding\\essa-tsp-metaheuristics\n"
     ]
    }
   ],
   "source": [
    "%cd ..\n",
    "from src.utils import *\n",
    "from src.algos import *\n"
   ]
  },
  {
   "cell_type": "code",
   "execution_count": 2,
   "metadata": {},
   "outputs": [],
   "source": [
    "df = load_data('data\\TSP_29.xlsx')"
   ]
  },
  {
   "cell_type": "code",
   "execution_count": 3,
   "metadata": {},
   "outputs": [],
   "source": [
    "ga = GeneticAlgorithm(\n",
    "    pop_size=1000,\n",
    "    no_generations=10,\n",
    "    mutation_rate=.2,\n",
    "    neigh_type=\"insertion\",\n",
    "    verbose=True)"
   ]
  },
  {
   "cell_type": "code",
   "execution_count": 4,
   "metadata": {},
   "outputs": [
    {
     "name": "stdout",
     "output_type": "stream",
     "text": [
      "Initial population: Individual(path: 19...10, distance: 4498.00)\n",
      "Generation 0: Individual(path: 19...13, distance: 4346.00) took 0.3698 seconds\n",
      "Generation 1: Individual(path: 1...13, distance: 4240.00) took 0.3736 seconds\n",
      "Generation 2: Individual(path: 1...13, distance: 4240.00) took 0.3815 seconds\n",
      "Generation 3: Individual(path: 1...13, distance: 4240.00) took 0.3711 seconds\n",
      "Generation 4: Individual(path: 28...13, distance: 4209.00) took 0.3641 seconds\n",
      "Generation 5: Individual(path: 28...13, distance: 4209.00) took 0.3665 seconds\n",
      "Generation 6: Individual(path: 9...5, distance: 4098.00) took 0.3634 seconds\n",
      "Generation 7: Individual(path: 15...11, distance: 4073.00) took 0.3659 seconds\n",
      "Generation 8: Individual(path: 19...25, distance: 3993.00) took 0.3635 seconds\n",
      "Generation 9: Individual(path: 24...10, distance: 3675.00) took 0.3654 seconds\n",
      "Final population: Individual(path: 24...10, distance: 3675.00)\n"
     ]
    }
   ],
   "source": [
    "ga.solve(df)"
   ]
  }
 ],
 "metadata": {
  "kernelspec": {
   "display_name": "venv",
   "language": "python",
   "name": "python3"
  },
  "language_info": {
   "codemirror_mode": {
    "name": "ipython",
    "version": 3
   },
   "file_extension": ".py",
   "mimetype": "text/x-python",
   "name": "python",
   "nbconvert_exporter": "python",
   "pygments_lexer": "ipython3",
   "version": "3.9.12"
  },
  "orig_nbformat": 4,
  "vscode": {
   "interpreter": {
    "hash": "2cd0f65a3b2750a550c115ccf2ca842b980a7754023f943c6e0c745361e445a7"
   }
  }
 },
 "nbformat": 4,
 "nbformat_minor": 2
}
