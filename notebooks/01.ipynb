{
 "cells": [
  {
   "cell_type": "code",
   "execution_count": 1,
   "metadata": {},
   "outputs": [
    {
     "name": "stdout",
     "output_type": "stream",
     "text": [
      "e:\\coding\\essa-tsp-metaheuristics\n"
     ]
    }
   ],
   "source": [
    "%cd ..\n",
    "from src.loaders.load_data import load_data\n",
    "import pandas as pd\n",
    "import numpy as np\n",
    "\n",
    "from src.algos.NearestNeighbour import NearestNeighbour"
   ]
  },
  {
   "cell_type": "code",
   "execution_count": 2,
   "metadata": {},
   "outputs": [
    {
     "name": "stdout",
     "output_type": "stream",
     "text": [
      "First city: 2\n"
     ]
    }
   ],
   "source": [
    "df = load_data(\"data\\TSP_29.xlsx\")\n",
    "START = np.random.randint(1, len(df)+1)\n",
    "print(\"First city:\", START)"
   ]
  },
  {
   "cell_type": "code",
   "execution_count": 3,
   "metadata": {},
   "outputs": [
    {
     "name": "stdout",
     "output_type": "stream",
     "text": [
      "Time elapsed: 0.0\n"
     ]
    },
    {
     "data": {
      "text/plain": [
       "1090"
      ]
     },
     "execution_count": 3,
     "metadata": {},
     "output_type": "execute_result"
    }
   ],
   "source": [
    "nn = NearestNeighbour(df, START)\n",
    "nn.run()"
   ]
  }
 ],
 "metadata": {
  "kernelspec": {
   "display_name": "Python 3.9.12 ('venv': venv)",
   "language": "python",
   "name": "python3"
  },
  "language_info": {
   "codemirror_mode": {
    "name": "ipython",
    "version": 3
   },
   "file_extension": ".py",
   "mimetype": "text/x-python",
   "name": "python",
   "nbconvert_exporter": "python",
   "pygments_lexer": "ipython3",
   "version": "3.9.12"
  },
  "orig_nbformat": 4,
  "vscode": {
   "interpreter": {
    "hash": "2cd0f65a3b2750a550c115ccf2ca842b980a7754023f943c6e0c745361e445a7"
   }
  }
 },
 "nbformat": 4,
 "nbformat_minor": 2
}
