{
 "cells": [
  {
   "cell_type": "code",
   "execution_count": 1,
   "metadata": {},
   "outputs": [
    {
     "name": "stdout",
     "output_type": "stream",
     "text": [
      "e:\\coding\\essa-tsp-metaheuristics\n"
     ]
    }
   ],
   "source": [
    "%cd ..\n",
    "from src.utils import load_data\n",
    "from src.algos import *"
   ]
  },
  {
   "cell_type": "code",
   "execution_count": 2,
   "metadata": {},
   "outputs": [],
   "source": [
    "df = load_data('data\\TSP_29.xlsx')"
   ]
  },
  {
   "cell_type": "code",
   "execution_count": 3,
   "metadata": {},
   "outputs": [
    {
     "data": {
      "text/plain": [
       "best distance: 2436\n",
       "algorithm: SIMULATED ANNEALING\n",
       "n_iter: 1000\n",
       "solving time: 0.269 s\n",
       "history: [5871, 5978, 5894, 5883, 5873, 5570, 5608, 5924, 5618, 5689, 5298, 5336, 5286, 5196, 5379, 4853, 4972, 5066, 4769, 4684, 4566, 4491, 4416, 4263, 4128, 4032, 3841, 3830, 3823, 3815, 3802, 3748, 3633, 3633, 3626, 3600, 3591, 3548, 3544, 3536, 3411, 3357, 3357, 3332, 3245, 3211, 3157, 3125, 3072, 3050, 3050, 3050, 3030, 2976, 2892, 2883, 2764, 2683, 2658, 2636, 2614, 2530, 2518, 2488, 2449, 2437, 2436]"
      ]
     },
     "execution_count": 3,
     "metadata": {},
     "output_type": "execute_result"
    }
   ],
   "source": [
    "s = SimulatedAnnealing(temp=1000, alpha=.9, n_iter=1000, verbose=False)\n",
    "s.solve(df)"
   ]
  },
  {
   "cell_type": "code",
   "execution_count": 4,
   "metadata": {},
   "outputs": [
    {
     "data": {
      "text/plain": [
       "best distance: 2293\n",
       "algorithm: NEAREST NEIGHBOUR\n",
       "solving time: 0.021 s"
      ]
     },
     "execution_count": 4,
     "metadata": {},
     "output_type": "execute_result"
    }
   ],
   "source": [
    "n = NearestNeighbour(verbose=False)\n",
    "n.solve(df, 14)"
   ]
  },
  {
   "cell_type": "code",
   "execution_count": 5,
   "metadata": {},
   "outputs": [
    {
     "data": {
      "text/plain": [
       "best distance: 2354\n",
       "algorithm: TABU SEARCH\n",
       "n_iter: 30\n",
       "solving time: 3.026 s\n",
       "history: [6226, 5449, 4761, 4338, 4109, 3885, 3741, 3461, 3279, 3174, 3075, 3027, 2988, 2938, 2887, 2849, 2816, 2790, 2664, 2642, 2644, 2651, 2618, 2551, 2529, 2384, 2382, 2390, 2390, 2352, 2354]"
      ]
     },
     "execution_count": 5,
     "metadata": {},
     "output_type": "execute_result"
    }
   ],
   "source": [
    "t = TabuSearch(verbose=False, tabu_length=3 , n_iter=30)\n",
    "t.solve(df)"
   ]
  },
  {
   "cell_type": "code",
   "execution_count": 6,
   "metadata": {},
   "outputs": [
    {
     "data": {
      "text/plain": [
       "best distance: 2550\n",
       "algorithm: HILL CLIMBER\n",
       "n_iter: 25\n",
       "solving time: 2.215 s\n",
       "history: [5189, 4586, 4061, 3807, 3598, 3453, 3319, 3210, 3124, 3023, 2933, 2851, 2801, 2780, 2760, 2674, 2654, 2644, 2638, 2636, 2599, 2590, 2550]"
      ]
     },
     "execution_count": 6,
     "metadata": {},
     "output_type": "execute_result"
    }
   ],
   "source": [
    "h = HillClimber(verbose=False, n_iter=25)\n",
    "h.solve(df)"
   ]
  },
  {
   "cell_type": "code",
   "execution_count": 7,
   "metadata": {},
   "outputs": [
    {
     "name": "stdout",
     "output_type": "stream",
     "text": [
      "No. of start: 1\n",
      "No. of start: 2\n",
      "No. of start: 3\n",
      "No. of start: 4\n",
      "No. of start: 5\n",
      "No. of start: 6\n",
      "No. of start: 7\n",
      "No. of start: 8\n",
      "No. of start: 9\n",
      "No. of start: 10\n",
      "No. of start: 11\n",
      "No. of start: 12\n",
      "No. of start: 13\n",
      "No. of start: 14\n",
      "No. of start: 15\n",
      "No. of start: 16\n",
      "No. of start: 17\n",
      "No. of start: 18\n",
      "No. of start: 19\n",
      "No. of start: 20\n",
      "No. of start: 21\n",
      "No. of start: 22\n",
      "No. of start: 23\n",
      "No. of start: 24\n",
      "No. of start: 25\n",
      "No. of start: 26\n",
      "No. of start: 27\n",
      "No. of start: 28\n",
      "No. of start: 29\n",
      "No. of start: 30\n",
      "No. of start: 31\n",
      "No. of start: 32\n",
      "No. of start: 33\n",
      "No. of start: 34\n",
      "No. of start: 35\n",
      "No. of start: 36\n",
      "No. of start: 37\n",
      "No. of start: 38\n",
      "No. of start: 39\n",
      "No. of start: 40\n",
      "No. of start: 41\n",
      "No. of start: 42\n",
      "No. of start: 43\n",
      "No. of start: 44\n",
      "No. of start: 45\n",
      "No. of start: 46\n",
      "No. of start: 47\n",
      "No. of start: 48\n",
      "No. of start: 49\n",
      "No. of start: 50\n",
      "No. of start: 51\n",
      "No. of start: 52\n",
      "No. of start: 53\n",
      "No. of start: 54\n",
      "No. of start: 55\n",
      "No. of start: 56\n",
      "No. of start: 57\n",
      "No. of start: 58\n",
      "No. of start: 59\n",
      "No. of start: 60\n",
      "No. of start: 61\n",
      "No. of start: 62\n",
      "No. of start: 63\n",
      "No. of start: 64\n",
      "No. of start: 65\n",
      "No. of start: 66\n",
      "No. of start: 67\n",
      "No. of start: 68\n",
      "No. of start: 69\n",
      "No. of start: 70\n",
      "No. of start: 71\n",
      "No. of start: 72\n",
      "No. of start: 73\n",
      "No. of start: 74\n",
      "No. of start: 75\n",
      "No. of start: 76\n",
      "No. of start: 77\n",
      "No. of start: 78\n",
      "No. of start: 79\n",
      "No. of start: 80\n",
      "No. of start: 81\n",
      "No. of start: 82\n",
      "No. of start: 83\n",
      "No. of start: 84\n",
      "No. of start: 85\n",
      "No. of start: 86\n",
      "No. of start: 87\n",
      "No. of start: 88\n",
      "No. of start: 89\n",
      "No. of start: 90\n",
      "No. of start: 91\n",
      "No. of start: 92\n",
      "No. of start: 93\n",
      "No. of start: 94\n",
      "No. of start: 95\n",
      "No. of start: 96\n",
      "No. of start: 97\n",
      "No. of start: 98\n",
      "No. of start: 99\n",
      "No. of start: 100\n",
      "No. of start: 101\n",
      "No. of start: 102\n",
      "No. of start: 103\n",
      "No. of start: 104\n",
      "No. of start: 105\n",
      "No. of start: 106\n",
      "No. of start: 107\n",
      "No. of start: 108\n",
      "No. of start: 109\n",
      "No. of start: 110\n",
      "No. of start: 111\n",
      "No. of start: 112\n",
      "No. of start: 113\n",
      "No. of start: 114\n",
      "No. of start: 115\n",
      "No. of start: 116\n",
      "No. of start: 117\n",
      "No. of start: 118\n",
      "No. of start: 119\n",
      "No. of start: 120\n",
      "No. of start: 121\n",
      "No. of start: 122\n",
      "No. of start: 123\n",
      "No. of start: 124\n",
      "No. of start: 125\n",
      "No. of start: 126\n",
      "No. of start: 127\n",
      "No. of start: 128\n",
      "No. of start: 129\n",
      "No. of start: 130\n",
      "No. of start: 131\n",
      "No. of start: 132\n",
      "No. of start: 133\n",
      "No. of start: 134\n",
      "No. of start: 135\n",
      "No. of start: 136\n",
      "No. of start: 137\n",
      "No. of start: 138\n",
      "No. of start: 139\n",
      "No. of start: 140\n",
      "No. of start: 141\n",
      "No. of start: 142\n",
      "No. of start: 143\n",
      "No. of start: 144\n",
      "No. of start: 145\n",
      "No. of start: 146\n",
      "No. of start: 147\n",
      "No. of start: 148\n",
      "No. of start: 149\n",
      "No. of start: 150\n",
      "No. of start: 151\n",
      "No. of start: 152\n",
      "No. of start: 153\n",
      "No. of start: 154\n",
      "No. of start: 155\n",
      "No. of start: 156\n",
      "No. of start: 157\n",
      "No. of start: 158\n",
      "No. of start: 159\n",
      "No. of start: 160\n",
      "No. of start: 161\n",
      "No. of start: 162\n",
      "No. of start: 163\n",
      "No. of start: 164\n",
      "No. of start: 165\n",
      "No. of start: 166\n",
      "No. of start: 167\n",
      "No. of start: 168\n",
      "No. of start: 169\n",
      "No. of start: 170\n",
      "No. of start: 171\n",
      "No. of start: 172\n",
      "No. of start: 173\n",
      "No. of start: 174\n",
      "No. of start: 175\n",
      "No. of start: 176\n",
      "No. of start: 177\n",
      "No. of start: 178\n",
      "No. of start: 179\n",
      "No. of start: 180\n",
      "No. of start: 181\n",
      "No. of start: 182\n",
      "No. of start: 183\n",
      "No. of start: 184\n",
      "No. of start: 185\n",
      "No. of start: 186\n",
      "No. of start: 187\n",
      "No. of start: 188\n",
      "No. of start: 189\n",
      "No. of start: 190\n",
      "No. of start: 191\n",
      "No. of start: 192\n",
      "No. of start: 193\n",
      "No. of start: 194\n",
      "No. of start: 195\n",
      "No. of start: 196\n",
      "No. of start: 197\n",
      "No. of start: 198\n",
      "No. of start: 199\n",
      "No. of start: 200\n"
     ]
    },
    {
     "data": {
      "text/plain": [
       "best distance: 2136\n",
       "algorithm: HILL CLIMBER MULTISTART\n",
       "n_iter: 20\n",
       "solving time: 393.746 s\n",
       "history: [6041, 5133, 4637, 4176, 3775, 3446, 3235, 3048, 2936, 2824, 2737, 2665, 2593, 2525, 2469, 2283, 2204, 2176, 2151, 2143, 2136]\n",
       "No. of starts: 200"
      ]
     },
     "execution_count": 7,
     "metadata": {},
     "output_type": "execute_result"
    }
   ],
   "source": [
    "hcm = HillClimberMultistart(verbose=False, n_iter=20)\n",
    "hcm.solve_multistart(df, 200)"
   ]
  },
  {
   "cell_type": "code",
   "execution_count": 8,
   "metadata": {},
   "outputs": [
    {
     "data": {
      "text/plain": [
       "<matplotlib.legend.Legend at 0x198fbfb88e0>"
      ]
     },
     "execution_count": 8,
     "metadata": {},
     "output_type": "execute_result"
    },
    {
     "data": {
      "image/png": "[encoded data removed]",
      "text/plain": [
       "<Figure size 640x480 with 1 Axes>"
      ]
     },
     "metadata": {},
     "output_type": "display_data"
    }
   ],
   "source": [
    "from matplotlib import pyplot as plt\n",
    "plt.plot(t.history, label=t.NAME)\n",
    "plt.plot(h.history, label=h.NAME)\n",
    "plt.plot(s.history, label=s.NAME)\n",
    "plt.legend()"
   ]
  },
  {
   "cell_type": "code",
   "execution_count": 10,
   "metadata": {},
   "outputs": [
    {
     "data": {
      "text/plain": [
       "<matplotlib.legend.Legend at 0x198fb247370>"
      ]
     },
     "execution_count": 10,
     "metadata": {},
     "output_type": "execute_result"
    },
    {
     "data": {
      "image/png": "[encoded data removed]",
      "text/plain": [
       "<Figure size 640x480 with 1 Axes>"
      ]
     },
     "metadata": {},
     "output_type": "display_data"
    }
   ],
   "source": [
    "plt.plot(hcm.history, label=hcm.NAME)\n",
    "plt.legend()"
   ]
  }
 ],
 "metadata": {
  "kernelspec": {
   "display_name": "venv",
   "language": "python",
   "name": "python3"
  },
  "language_info": {
   "codemirror_mode": {
    "name": "ipython",
    "version": 3
   },
   "file_extension": ".py",
   "mimetype": "text/x-python",
   "name": "python",
   "nbconvert_exporter": "python",
   "pygments_lexer": "ipython3",
   "version": "3.9.12"
  },
  "orig_nbformat": 4,
  "vscode": {
   "interpreter": {
    "hash": "2cd0f65a3b2750a550c115ccf2ca842b980a7754023f943c6e0c745361e445a7"
   }
  }
 },
 "nbformat": 4,
 "nbformat_minor": 2
}
